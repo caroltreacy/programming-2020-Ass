{
 "cells": [
  {
   "cell_type": "markdown",
   "metadata": {},
   "source": [
    "<br>\n",
    "\n",
    "# Programming for Data Analysis 2020"
   ]
  },
  {
   "cell_type": "markdown",
   "metadata": {},
   "source": [
    "# By Carol Treacy"
   ]
  },
  {
   "cell_type": "markdown",
   "metadata": {},
   "source": [
    "<br>\n",
    "\n",
    "## Introduction"
   ]
  },
  {
   "cell_type": "markdown",
   "metadata": {},
   "source": [
    "The following assignment will explain the use of the package numpy.random, including detailed explanations of at least five of the distributions provided by numpy.random. "
   ]
  },
  {
   "cell_type": "markdown",
   "metadata": {},
   "source": [
    "## 1. Overall purpose of the package numpy.random"
   ]
  },
  {
   "cell_type": "markdown",
   "metadata": {},
   "source": [
    "NumPy (Numerical Python) is an open source Python library that’s used in almost every field of science and engineering. It’s the universal standard for working with numerical data in Python, and it’s at the core of the scientific Python and PyData ecosystems. NumPy users include everyone from beginning coders to experienced researchers doing state-of-the-art scientific and industrial research and development. The NumPy API is used extensively in Pandas, SciPy, Matplotlib, scikit-learn, scikit-image and most other data science and scientific Python packages.\n",
    "\n",
    "Numpy.random is computer package that is effective in dealing with arrays and numbers.  Numpy is part of Python and can be used to generate random numbers.  Within numpy.random there are four areas including simple random data, permutations, distribtuions and random generator. \n",
    "\n",
    "To make numpy accessible you have to import it to your jupyter notebook - import numpy as np"
   ]
  },
  {
   "cell_type": "markdown",
   "metadata": {},
   "source": [
    "The use of random number generation is an important part of the configuration and evaluation of many numerical and machine learning algorithms. Whether you need to randomly initialize weights in an artificial neural network, split data into random sets, or randomly shuffle your dataset, being able to generate random numbers (actually, repeatable pseudo-random numbers) is essential."
   ]
  },
  {
   "cell_type": "markdown",
   "metadata": {},
   "source": [
    "## 2. Explain the use of 'Simple random data' and 'Premutations'"
   ]
  },
  {
   "cell_type": "markdown",
   "metadata": {},
   "source": [
    "### Simple random data"
   ]
  },
  {
   "cell_type": "markdown",
   "metadata": {},
   "source": [
    "Simple random data is used to generate random numbers.  A simple random sample is a subset of a statistical in which any subset has an equal number can be chosen. A simple random sample is meant to be an unbiased representation of a group. Within sample random data possibilities include, integers, random, choice and bytes as ways of selecting random arrays and numbers."
   ]
  },
  {
   "cell_type": "code",
   "execution_count": 49,
   "metadata": {},
   "outputs": [],
   "source": [
    "# to start using numpy.random you have to import numpy, matplotlib\n",
    "import numpy as np\n",
    "import matplotlib.pyplot as plt\n",
    "import pandas as pd\n",
    "import seaborn as sns"
   ]
  },
  {
   "cell_type": "markdown",
   "metadata": {},
   "source": [
    "The following is an example of how numpy.random can select a random number between 0-100"
   ]
  },
  {
   "cell_type": "code",
   "execution_count": 50,
   "metadata": {},
   "outputs": [
    {
     "name": "stdout",
     "output_type": "stream",
     "text": [
      "32\n"
     ]
    }
   ],
   "source": [
    "# To use numpy.random you have to import it into your jupyter notebook.\n",
    "\n",
    "from numpy import random\n",
    "\n",
    "x = random.randint(0, 100)\n",
    "\n",
    "print(x)"
   ]
  },
  {
   "cell_type": "markdown",
   "metadata": {},
   "source": [
    "Random.randint can select an array of 10 numbers from 0 up to 5, but not including 5."
   ]
  },
  {
   "cell_type": "code",
   "execution_count": 51,
   "metadata": {},
   "outputs": [
    {
     "data": {
      "text/plain": [
       "array([0, 3, 4, 0, 4, 4, 2, 0, 4, 1])"
      ]
     },
     "execution_count": 51,
     "metadata": {},
     "output_type": "execute_result"
    }
   ],
   "source": [
    "np.random.randint(5, size=10)\n"
   ]
  },
  {
   "cell_type": "code",
   "execution_count": 4,
   "metadata": {},
   "outputs": [
    {
     "data": {
      "text/plain": [
       "array([2, 3, 3, 1, 3, 2, 4, 1, 2, 0])"
      ]
     },
     "execution_count": 4,
     "metadata": {},
     "output_type": "execute_result"
    }
   ],
   "source": [
    "y = np.random.randint(5, size=10)\n",
    "y"
   ]
  },
  {
   "cell_type": "code",
   "execution_count": 5,
   "metadata": {},
   "outputs": [
    {
     "data": {
      "text/plain": [
       "(array([1., 0., 2., 0., 0., 3., 0., 3., 0., 1.]),\n",
       " array([0. , 0.4, 0.8, 1.2, 1.6, 2. , 2.4, 2.8, 3.2, 3.6, 4. ]),\n",
       " <a list of 10 Patch objects>)"
      ]
     },
     "execution_count": 5,
     "metadata": {},
     "output_type": "execute_result"
    },
    {
     "data": {
      "image/png": "[encoded data removed]",
      "text/plain": [
       "<Figure size 432x288 with 1 Axes>"
      ]
     },
     "metadata": {
      "needs_background": "light"
     },
     "output_type": "display_data"
    }
   ],
   "source": [
    "# the results of the selection can then be displayed on a histogram\n",
    "plt.hist(y)"
   ]
  },
  {
   "cell_type": "markdown",
   "metadata": {},
   "source": [
    "Random.randit can select 10 numbers and display them in 2 arrays of a select amount of numbers."
   ]
  },
  {
   "cell_type": "code",
   "execution_count": 6,
   "metadata": {},
   "outputs": [
    {
     "data": {
      "text/plain": [
       "array([[6, 3, 6, 4, 2],\n",
       "       [2, 5, 2, 2, 8]])"
      ]
     },
     "execution_count": 6,
     "metadata": {},
     "output_type": "execute_result"
    }
   ],
   "source": [
    "np.random.randint(10, size=(2, 5))"
   ]
  },
  {
   "cell_type": "code",
   "execution_count": 7,
   "metadata": {},
   "outputs": [
    {
     "data": {
      "text/plain": [
       "array([[0, 1, 6, 8, 8],\n",
       "       [2, 0, 8, 4, 2]])"
      ]
     },
     "execution_count": 7,
     "metadata": {},
     "output_type": "execute_result"
    }
   ],
   "source": [
    "x = np.random.randint(10, size=(2, 5))\n",
    "x"
   ]
  },
  {
   "cell_type": "markdown",
   "metadata": {},
   "source": [
    "Random choice can give you a selection of cars and generate a random selection.\n",
    "- Audi\n",
    "- BMW\n",
    "- Toyota\n",
    "- Bently\n",
    "- Kia\n"
   ]
  },
  {
   "cell_type": "code",
   "execution_count": 87,
   "metadata": {},
   "outputs": [
    {
     "data": {
      "text/plain": [
       "array(['Toyota', 'BMW', 'Bently', 'Bently', 'Kia', 'Toyota', 'Kia',\n",
       "       'Audi', 'BMW', 'BMW', 'BMW', 'BMW', 'Kia', 'Bently', 'BMW',\n",
       "       'Bently', 'Toyota', 'Toyota', 'Bently', 'Kia', 'Audi', 'Kia',\n",
       "       'Audi', 'BMW', 'BMW', 'BMW', 'BMW', 'Toyota', 'Toyota', 'Audi',\n",
       "       'Toyota', 'Kia', 'Kia', 'Bently', 'Audi', 'Bently', 'Bently',\n",
       "       'Bently', 'Audi', 'Audi', 'Kia', 'Kia', 'Kia', 'Audi', 'Toyota',\n",
       "       'Bently', 'Toyota', 'Kia', 'Toyota', 'BMW', 'Audi', 'Bently',\n",
       "       'Audi', 'BMW', 'Bently', 'Toyota', 'Bently', 'BMW', 'Kia', 'BMW',\n",
       "       'Bently', 'Bently', 'BMW', 'BMW', 'Audi', 'Kia', 'Kia', 'Bently',\n",
       "       'Audi', 'Audi', 'Toyota', 'Kia', 'Bently', 'Kia', 'Toyota', 'Audi',\n",
       "       'Audi', 'Audi', 'Bently', 'Audi', 'Audi', 'Bently', 'Kia', 'BMW',\n",
       "       'Audi', 'Audi', 'Audi', 'BMW', 'Kia', 'BMW', 'BMW', 'Audi',\n",
       "       'Toyota', 'Toyota', 'Audi', 'Kia', 'Kia', 'Audi', 'Toyota', 'Kia'],\n",
       "      dtype='<U6')"
      ]
     },
     "execution_count": 87,
     "metadata": {},
     "output_type": "execute_result"
    }
   ],
   "source": [
    "# these are the selection of cars I choose\n",
    "cars = (\"Audi\", \"BMW\", \"Toyota\", \"Bently\", \"Kia\")\n",
    "# randomly selects 100 different cars from the selection\n",
    "choice = np.random.choice(cars, 100)\n",
    "choice\n"
   ]
  },
  {
   "cell_type": "markdown",
   "metadata": {},
   "source": [
    "## Premutations"
   ]
  },
  {
   "cell_type": "markdown",
   "metadata": {},
   "source": [
    "A permutation is a mathematical calculation of the number of ways a particular set can be arranged, where the order of the arrangement matters. "
   ]
  },
  {
   "cell_type": "markdown",
   "metadata": {},
   "source": [
    "### Random Shuffle"
   ]
  },
  {
   "cell_type": "markdown",
   "metadata": {},
   "source": [
    "Numpy.random shuffle is a function modifies a sequence in-place by shuffling its contents.  This function only shuffles the array along the first axis of a multi-dimensional array. The order of sub-arrays is changed but their contents remains the same.\n",
    "\n",
    "To randomly shuffle elements of lists (list), strings (str) and tuples (tuple) in Python, use the random module."
   ]
  },
  {
   "cell_type": "code",
   "execution_count": 23,
   "metadata": {},
   "outputs": [
    {
     "name": "stdout",
     "output_type": "stream",
     "text": [
      "[0, 1, 2, 3, 4, 5, 6, 7, 8, 9]\n",
      "[6, 3, 0, 8, 7, 2, 4, 9, 5, 1]\n"
     ]
    }
   ],
   "source": [
    "# import random to use the shuffle function \n",
    "import random  \n",
    "\n",
    "l = list(range(10)) # first output, this gives the list of numbers that I want to shuffle to get an array\n",
    "print(l)\n",
    "\n",
    "random.shuffle(l)  # second output, this shuffled my list and gave a random list of numbers\n",
    "print(l)\n"
   ]
  },
  {
   "cell_type": "markdown",
   "metadata": {},
   "source": [
    "### Random Permutations"
   ]
  },
  {
   "cell_type": "markdown",
   "metadata": {},
   "source": [
    "A permutation refers to an arrangement of elements. e.g. [3, 2, 1] is a permutation of [1, 2, 3] and vice-versa."
   ]
  },
  {
   "cell_type": "code",
   "execution_count": 2,
   "metadata": {},
   "outputs": [
    {
     "name": "stdout",
     "output_type": "stream",
     "text": [
      "[0, 1, 2, 3, 4, 5, 6, 7, 8, 9, 10, 11, 12, 13, 14, 15, 16, 17, 18, 19, 20, 21, 22, 23, 24, 25, 26, 27, 28, 29, 30, 31, 32, 33, 34, 35, 36, 37, 38, 39, 40, 41, 42, 43, 44, 45, 46, 47, 48, 49, 50, 51, 52, 53, 54, 55, 56, 57, 58, 59, 60, 61, 62, 63, 64, 65, 66, 67, 68, 69, 70, 71, 72, 73, 74, 75, 76, 77, 78, 79, 80, 81, 82, 83, 84, 85, 86, 87, 88, 89, 90, 91, 92, 93, 94, 95, 96, 97, 98, 99]\n"
     ]
    }
   ],
   "source": [
    "import numpy as np\n",
    "import random \n",
    "l = list(range(100)) # the first array gives a list of 100 numbers\n",
    "print(l)\n",
    "\n"
   ]
  },
  {
   "cell_type": "code",
   "execution_count": 3,
   "metadata": {},
   "outputs": [
    {
     "ename": "AttributeError",
     "evalue": "module 'random' has no attribute 'permutation'",
     "output_type": "error",
     "traceback": [
      "\u001b[1;31m---------------------------------------------------------------------------\u001b[0m",
      "\u001b[1;31mAttributeError\u001b[0m                            Traceback (most recent call last)",
      "\u001b[1;32m<ipython-input-3-110f6de96946>\u001b[0m in \u001b[0;36m<module>\u001b[1;34m\u001b[0m\n\u001b[1;32m----> 1\u001b[1;33m \u001b[0mrandom\u001b[0m\u001b[1;33m.\u001b[0m\u001b[0mpermutation\u001b[0m\u001b[1;33m(\u001b[0m\u001b[0ml\u001b[0m\u001b[1;33m)\u001b[0m \u001b[1;31m# this function asks that the same list is printed out in a random order\u001b[0m\u001b[1;33m\u001b[0m\u001b[1;33m\u001b[0m\u001b[0m\n\u001b[0m\u001b[0;32m      2\u001b[0m \u001b[0mprint\u001b[0m\u001b[1;33m(\u001b[0m\u001b[0mrandom\u001b[0m\u001b[1;33m.\u001b[0m\u001b[0mpermutation\u001b[0m\u001b[1;33m(\u001b[0m\u001b[0ml\u001b[0m\u001b[1;33m)\u001b[0m\u001b[1;33m)\u001b[0m\u001b[1;33m\u001b[0m\u001b[1;33m\u001b[0m\u001b[0m\n",
      "\u001b[1;31mAttributeError\u001b[0m: module 'random' has no attribute 'permutation'"
     ]
    }
   ],
   "source": [
    "random.permutation(l) # this function asks that the same list is printed out in a random order\n",
    "print(random.permutation(l))"
   ]
  },
  {
   "cell_type": "markdown",
   "metadata": {},
   "source": [
    "## 3. Explain the use and purpose of five 'Distributions' functions"
   ]
  },
  {
   "cell_type": "markdown",
   "metadata": {},
   "source": [
    "The Distribution function in numpy.random is a large section. The distribution function , also called the cumulative distribution function (CDF) or cumulative frequency function, describes the probability that a variate takes on a value less than or equal to a number."
   ]
  },
  {
   "cell_type": "markdown",
   "metadata": {},
   "source": [
    "   ###   Uniform Distribution"
   ]
  },
  {
   "cell_type": "markdown",
   "metadata": {},
   "source": [
    "In statistics, uniform distribution is a term used to describe a form of probability distribution where every possible outcome has an equal likelihood of happening. The probability is constant since each variable has equal chances of being the outcome.  Good examples are picking a card from a deck or rolling a dice.\n",
    "\n",
    "Withing the uniform distribution there are two examples of uniform distributions. \n",
    "\n",
    "Descrete uniform distributions\n",
    "- probability of hitting heads or tails\n",
    "- probability of landing on each side of a dice\n",
    "\n",
    "Continuous uniform distribution \n",
    "- perfect random number generator\n",
    "- probability of guessing exact time at any moment\n",
    "   "
   ]
  },
  {
   "cell_type": "code",
   "execution_count": 16,
   "metadata": {},
   "outputs": [
    {
     "data": {
      "text/plain": [
       "array([21.51118692,  8.93505133, 10.62890265, 39.72357609, 34.85043197,\n",
       "        2.71442013, 45.14673707, 49.55161528, 35.09164869, 34.88445693,\n",
       "       33.86601307, 20.15589409, 21.46471299, 49.05236917, 28.20313963,\n",
       "       10.31982011, 45.25978006, 32.17966786, 35.03454026, 40.45652846,\n",
       "       49.77615555, 34.15302881, 32.1350944 , 39.66375344, 35.48832443,\n",
       "       27.36974287, 33.43879699, 31.26833747, 23.20508039, 36.71750356,\n",
       "       35.36967138, 14.48761181, 39.58891072, 31.8140424 , 27.11973154,\n",
       "       38.29247177, 45.52830561, 22.69140582, 47.97816299, 46.06229826,\n",
       "       49.57010721, 27.02621576, 44.00810771,  4.16621304, 31.05106478,\n",
       "       45.72099712, 48.15217784, 21.85570479,  3.03864387,  2.77488435,\n",
       "       10.32042075, 15.43675354, 44.06533605, 10.76245043, 20.12709781,\n",
       "       21.98425962, 22.11318024, 15.93070387, 24.55542455,  3.0900754 ,\n",
       "       27.93126275, 22.83903501, 19.77633486, 13.14548094, 33.06351679,\n",
       "       29.88411772, 36.37325551, 41.40733901, 43.16001407, 46.72578867,\n",
       "       19.4759164 ,  1.24976769, 14.15150146, 16.30795503, 23.06120228,\n",
       "        6.39427801, 41.92751544, 22.26186664, 27.54067871, 42.88689648,\n",
       "       29.91833608, 44.58319806,  8.43322231, 28.11017122, 41.5982574 ,\n",
       "       26.17181707, 12.59573106,  2.2083994 , 40.80958623, 22.06054732,\n",
       "       22.08857534, 45.96320463, 28.03175762, 46.85958471,  3.53063752,\n",
       "       20.54268669, 48.75038226, 23.67010071, 37.55301707, 19.07847758])"
      ]
     },
     "execution_count": 16,
     "metadata": {},
     "output_type": "execute_result"
    }
   ],
   "source": [
    "import numpy as np \n",
    "np.random.uniform(1,50,100)\n",
    "#the first number is the lowest, the second is the highest, and the last is the amount of numbers i want to return\n"
   ]
  },
  {
   "cell_type": "code",
   "execution_count": 83,
   "metadata": {},
   "outputs": [
    {
     "data": {
      "text/plain": [
       "(array([12.,  5.,  8.,  8., 12., 12.,  8., 15., 10., 10.]),\n",
       " array([ 2.21794472,  6.9820936 , 11.74624249, 16.51039138, 21.27454027,\n",
       "        26.03868916, 30.80283804, 35.56698693, 40.33113582, 45.09528471,\n",
       "        49.8594336 ]),\n",
       " <a list of 10 Patch objects>)"
      ]
     },
     "execution_count": 83,
     "metadata": {},
     "output_type": "execute_result"
    },
    {
     "data": {
      "image/png": "[encoded data removed]",
      "text/plain": [
       "<Figure size 432x288 with 1 Axes>"
      ]
     },
     "metadata": {
      "needs_background": "light"
     },
     "output_type": "display_data"
    }
   ],
   "source": [
    "import matplotlib.pyplot as plt\n",
    "d = np.random.uniform(1,50,100)\n",
    "plt.title(\"Normal Distrubtion\")\n",
    "plt.hist(d)"
   ]
  },
  {
   "cell_type": "markdown",
   "metadata": {},
   "source": [
    "### Normal Distribution"
   ]
  },
  {
   "cell_type": "markdown",
   "metadata": {},
   "source": [
    "The normal distribution is the most common distribution of all. Its values take on that familiar bell shape, with more values near the center and fewer as you move away."
   ]
  },
  {
   "cell_type": "code",
   "execution_count": 78,
   "metadata": {},
   "outputs": [
    {
     "data": {
      "text/plain": [
       "(array([ 4.,  7., 13., 22., 20., 15., 11.,  5.,  1.,  2.]),\n",
       " array([ 9.77809551,  9.83030251,  9.88250952,  9.93471652,  9.98692352,\n",
       "        10.03913052, 10.09133752, 10.14354453, 10.19575153, 10.24795853,\n",
       "        10.30016553]),\n",
       " <a list of 10 Patch objects>)"
      ]
     },
     "execution_count": 78,
     "metadata": {},
     "output_type": "execute_result"
    },
    {
     "data": {
      "image/png": "[encoded data removed]",
      "text/plain": [
       "<Figure size 432x288 with 1 Axes>"
      ]
     },
     "metadata": {
      "needs_background": "light"
     },
     "output_type": "display_data"
    }
   ],
   "source": [
    "h = np.random.normal(10,0.1,100)\n",
    "# first number is what it is centred around, the second is what is increases by, the third the amount of numbers returned\n",
    "plt.hist(h)  "
   ]
  },
  {
   "cell_type": "markdown",
   "metadata": {},
   "source": [
    "### Standard Distribution"
   ]
  },
  {
   "cell_type": "markdown",
   "metadata": {},
   "source": [
    "Standard deviation is a number used to tell how measurements for a group are spread out from the average (mean or expected value). A low standard deviation means that most of the numbers are close to the average, while a high standard deviation means that the numbers are more spread out."
   ]
  },
  {
   "cell_type": "code",
   "execution_count": null,
   "metadata": {},
   "outputs": [],
   "source": []
  },
  {
   "cell_type": "markdown",
   "metadata": {},
   "source": [
    "### Binomial Distribution"
   ]
  },
  {
   "cell_type": "markdown",
   "metadata": {},
   "source": [
    "The random dinomial function is used to simulate flipping a coin with a 50/50 % chance of gettings the results of heads or tails. If you flip a coin a number of times can view like a bell-shaped curve.  If you flip a coin 100, the chances of getting 50 'tails' are high but the chances of getting 0 or 100 are very low."
   ]
  },
  {
   "cell_type": "code",
   "execution_count": 23,
   "metadata": {},
   "outputs": [
    {
     "data": {
      "text/plain": [
       "array([4, 0, 3, 4, 3, 3, 2, 3, 4, 1, 2, 2, 3, 3, 3, 2, 4, 1, 2, 3, 5, 2,\n",
       "       3, 1, 2, 3, 4, 1, 2, 2, 1, 1, 3, 2, 2, 2, 2, 3, 2, 4, 2, 1, 1, 4,\n",
       "       3, 4, 4, 3, 2, 3, 3, 1, 3, 2, 2, 0, 3, 3, 3, 4, 2, 1, 2, 3, 3, 2,\n",
       "       3, 2, 4, 2, 0, 4, 3, 3, 2, 1, 3, 3, 2, 2, 0, 4, 3, 4, 4, 2, 2, 1,\n",
       "       3, 2, 1, 3, 3, 3, 3, 3, 4, 1, 3, 3], dtype=int64)"
      ]
     },
     "execution_count": 23,
     "metadata": {},
     "output_type": "execute_result"
    }
   ],
   "source": [
    "rng = np.random.default_rng()\n",
    "n, p = 5, .5  # 5 is the number of times I flip the coin , .5 is the % of heads/tails\n",
    "s = rng.binomial(n, p, 100) # result of flipping a coin 5 times, tested 100 times.\n",
    "s"
   ]
  },
  {
   "cell_type": "code",
   "execution_count": 26,
   "metadata": {},
   "outputs": [
    {
     "data": {
      "text/plain": [
       "0.8143"
      ]
     },
     "execution_count": 26,
     "metadata": {},
     "output_type": "execute_result"
    }
   ],
   "source": [
    "sum(rng.binomial(2, 0.1, 10000) == 0)/10000 # completed the task 10000 times to see how often 1 could be randoming selected"
   ]
  },
  {
   "cell_type": "code",
   "execution_count": 36,
   "metadata": {},
   "outputs": [
    {
     "data": {
      "image/png": "[encoded data removed]",
      "text/plain": [
       "<Figure size 432x288 with 1 Axes>"
      ]
     },
     "metadata": {
      "needs_background": "light"
     },
     "output_type": "display_data"
    }
   ],
   "source": [
    "import matplotlib.pyplot as plt\n",
    "plt.xlabel(\"Count of flibs\")\n",
    "plt.ylabel(\"Times tested\")\n",
    "plt.title(\"Flipping Coin\")\n",
    "plt.hist(s)\n",
    "plt.show()"
   ]
  },
  {
   "cell_type": "markdown",
   "metadata": {},
   "source": [
    "### Triangular Distribution"
   ]
  },
  {
   "cell_type": "markdown",
   "metadata": {},
   "source": [
    "A triangular distribution (sometimes called a triangle distribution) is a continuous probability distribution shaped like a triangle. It is defined by:\n",
    "\n",
    "    a: the minimum value, where a ≤ c,\n",
    "    c: the peak value (the height of the triangle), where a ≤ c ≤ b,\n",
    "    b: the maximum value, where b ≥ c.\n",
    "\n",
    "This makes it very easy to estimate the distribution’s parameters from sample data"
   ]
  },
  {
   "cell_type": "code",
   "execution_count": null,
   "metadata": {},
   "outputs": [],
   "source": []
  },
  {
   "cell_type": "markdown",
   "metadata": {},
   "source": [
    "## 4. Explain the use of seeds in generating pseudorandom numbers"
   ]
  },
  {
   "cell_type": "markdown",
   "metadata": {},
   "source": [
    "A seed is the starting point of when a computer generates a random number sequence.  Computers can't generate random numbers, they operate with a set of rules.  To start selecting random number you have to start with a value 'x', this is the seed.  The computer follows a of set rules, so you start with the same seed you would get the same sequence of random numbers.  \n",
    "\n",
    "The seed is a starting point for a sequence of pseudorandom numbers. If you start from the same seed, you get the very same sequence. This can be quite useful for debugging, you should get the same pattern. If you want a different sequence of numbers each time, you can use the current time as a seed, as this would give a different 'seed', starting point each time you want to produce a random number.\n"
   ]
  },
  {
   "cell_type": "code",
   "execution_count": null,
   "metadata": {},
   "outputs": [],
   "source": []
  },
  {
   "cell_type": "markdown",
   "metadata": {},
   "source": [
    "## References"
   ]
  },
  {
   "cell_type": "markdown",
   "metadata": {},
   "source": [
    "https://www.investopedia.com/terms/s/simple-random-sample.asp\n",
    "\n",
    "https://numpy.org/doc/1.16/reference/routines.random.html\n",
    "\n",
    "https://www.investopedia.com/terms/p/permutation.asp\n",
    "\n",
    "https://note.nkmk.me/en/python-random-shuffle/\n",
    "\n",
    "https://www.w3schools.com/python/trypython.asp?filename=demo_numpy_random_permutation2\n",
    "\n",
    "https://corporatefinanceinstitute.com/resources/knowledge/other/uniform-distribution/\n",
    "\n",
    "https://simple.wikipedia.org/wiki/Standard_deviation\n",
    "\n",
    "https://www.statisticshowto.com/triangular-distribution/\n",
    "\n",
    "https://numpy.org/doc/stable/user/absolute_beginners.html\n",
    "\n",
    "https://docs.scipy.org/doc/numpy-1.15.0/reference/routines.random.html\n",
    "\n",
    "https://numpy.org/doc/stable/user/absolute_beginners.html\n",
    "\n",
    "https://yourbasic.org/algorithms/random-number-generator-seed/\n",
    "\n",
    "https://stats.stackexchange.com/questions/354373/what-exactly-is-a-seed-in-a-random-number-generator"
   ]
  },
  {
   "cell_type": "markdown",
   "metadata": {},
   "source": [
    "## End"
   ]
  }
 ],
 "metadata": {
  "kernelspec": {
   "display_name": "Python 3",
   "language": "python",
   "name": "python3"
  },
  "language_info": {
   "codemirror_mode": {
    "name": "ipython",
    "version": 3
   },
   "file_extension": ".py",
   "mimetype": "text/x-python",
   "name": "python",
   "nbconvert_exporter": "python",
   "pygments_lexer": "ipython3",
   "version": "3.8.3"
  }
 },
 "nbformat": 4,
 "nbformat_minor": 4
}
