{
 "cells": [
  {
   "cell_type": "markdown",
   "metadata": {},
   "source": [
    "<br>\n",
    "\n",
    "# Programming for Data Analysis"
   ]
  },
  {
   "cell_type": "markdown",
   "metadata": {},
   "source": [
    "<br>\n",
    "\n",
    "## Introduction"
   ]
  },
  {
   "cell_type": "markdown",
   "metadata": {},
   "source": [
    "The following assignment will explain the use of the package numpy.random"
   ]
  },
  {
   "cell_type": "markdown",
   "metadata": {},
   "source": [
    "## Overall purpose of the package numpy.random"
   ]
  },
  {
   "cell_type": "markdown",
   "metadata": {},
   "source": [
    "NumPy (Numerical Python) is an open source Python library that’s used in almost every field of science and engineering. It’s the universal standard for working with numerical data in Python, and it’s at the core of the scientific Python and PyData ecosystems. NumPy users include everyone from beginning coders to experienced researchers doing state-of-the-art scientific and industrial research and development. The NumPy API is used extensively in Pandas, SciPy, Matplotlib, scikit-learn, scikit-image and most other data science and scientific Python packages.(https://numpy.org/doc/stable/user/absolute_beginners.html).\n",
    "\n",
    "Numpy.random is computer package that is effective in dealing with arrays and numbers.  Numpy is part of Python and can be used to generate random numbers.  Within numpy.random there are four areas including simple random data, permutations, distribtuions and random generator. \n",
    "\n",
    "https://docs.scipy.org/doc/numpy-1.15.0/reference/routines.random.html\n",
    "\n",
    "To make numpy accessible you have to import it to your jupyter notebook - import numpy as np"
   ]
  },
  {
   "cell_type": "markdown",
   "metadata": {},
   "source": [
    "The use of random number generation is an important part of the configuration and evaluation of many numerical and machine learning algorithms. Whether you need to randomly initialize weights in an artificial neural network, split data into random sets, or randomly shuffle your dataset, being able to generate random numbers (actually, repeatable pseudo-random numbers) is essential (https://numpy.org/doc/stable/user/absolute_beginners.html)."
   ]
  },
  {
   "cell_type": "markdown",
   "metadata": {},
   "source": [
    "## Explain the use of 'Simple random data' and 'Premutations'"
   ]
  },
  {
   "cell_type": "markdown",
   "metadata": {},
   "source": [
    "### Simple random data"
   ]
  },
  {
   "cell_type": "markdown",
   "metadata": {},
   "source": [
    "Simple random data is used to generate random numbers.  A simple random sample is a subset of a statistical in which any subset has an equal number can be chosen. A simple random sample is meant to be an unbiased representation of a group. Within sample random data possibilities include, integers, random, choice and bytes as ways of selecting random arrays and numbers."
   ]
  },
  {
   "cell_type": "code",
   "execution_count": 1,
   "metadata": {},
   "outputs": [],
   "source": [
    "# to start using numpy.random you have to import numpy, matplotlib\n",
    "import numpy as np\n",
    "import matplotlib.pyplot as plt"
   ]
  },
  {
   "cell_type": "markdown",
   "metadata": {},
   "source": [
    "The following is an example of how numpy.random can select a random number between 0-100"
   ]
  },
  {
   "cell_type": "code",
   "execution_count": 2,
   "metadata": {},
   "outputs": [
    {
     "name": "stdout",
     "output_type": "stream",
     "text": [
      "87\n"
     ]
    }
   ],
   "source": [
    "# To use numpy.random you have to import it into your jupyter notebook.\n",
    "\n",
    "from numpy import random\n",
    "\n",
    "x = random.randint(0, 100)\n",
    "\n",
    "print(x)"
   ]
  },
  {
   "cell_type": "markdown",
   "metadata": {},
   "source": [
    "Random.randint can select an array of 10 numbers from 0 up to 5, but not including 5."
   ]
  },
  {
   "cell_type": "code",
   "execution_count": 3,
   "metadata": {},
   "outputs": [
    {
     "data": {
      "text/plain": [
       "array([3, 1, 2, 2, 3, 0, 1, 2, 3, 3])"
      ]
     },
     "execution_count": 3,
     "metadata": {},
     "output_type": "execute_result"
    }
   ],
   "source": [
    "np.random.randint(5, size=10)\n"
   ]
  },
  {
   "cell_type": "code",
   "execution_count": 4,
   "metadata": {},
   "outputs": [
    {
     "data": {
      "text/plain": [
       "array([3, 1, 0, 3, 1, 2, 1, 3, 0, 4])"
      ]
     },
     "execution_count": 4,
     "metadata": {},
     "output_type": "execute_result"
    }
   ],
   "source": [
    "y = np.random.randint(5, size=10)\n",
    "y"
   ]
  },
  {
   "cell_type": "code",
   "execution_count": 5,
   "metadata": {},
   "outputs": [
    {
     "data": {
      "text/plain": [
       "(array([2., 0., 3., 0., 0., 1., 0., 3., 0., 1.]),\n",
       " array([0. , 0.4, 0.8, 1.2, 1.6, 2. , 2.4, 2.8, 3.2, 3.6, 4. ]),\n",
       " <a list of 10 Patch objects>)"
      ]
     },
     "execution_count": 5,
     "metadata": {},
     "output_type": "execute_result"
    },
    {
     "data": {
      "image/png": "[encoded data removed]",
      "text/plain": [
       "<Figure size 432x288 with 1 Axes>"
      ]
     },
     "metadata": {
      "needs_background": "light"
     },
     "output_type": "display_data"
    }
   ],
   "source": [
    "# the results of the selection can then be displayed on a histogram\n",
    "plt.hist(y)"
   ]
  },
  {
   "cell_type": "markdown",
   "metadata": {},
   "source": [
    "Random.randit can select 10 numbers and display them in 2 arrays of a select amount of numbers."
   ]
  },
  {
   "cell_type": "code",
   "execution_count": 6,
   "metadata": {},
   "outputs": [
    {
     "data": {
      "text/plain": [
       "array([[8, 6, 5, 0, 8],\n",
       "       [6, 8, 8, 8, 5]])"
      ]
     },
     "execution_count": 6,
     "metadata": {},
     "output_type": "execute_result"
    }
   ],
   "source": [
    "np.random.randint(10, size=(2, 5))"
   ]
  },
  {
   "cell_type": "code",
   "execution_count": 7,
   "metadata": {},
   "outputs": [
    {
     "data": {
      "text/plain": [
       "array([[1, 8, 7, 6, 3],\n",
       "       [0, 0, 9, 6, 7]])"
      ]
     },
     "execution_count": 7,
     "metadata": {},
     "output_type": "execute_result"
    }
   ],
   "source": [
    "x = np.random.randint(10, size=(2, 5))\n",
    "x"
   ]
  },
  {
   "cell_type": "markdown",
   "metadata": {},
   "source": [
    "Random choice can give you a selection of cars and generate a random selection.\n",
    "- Audi\n",
    "- BMW\n",
    "- Toyota\n",
    "- Bently\n",
    "- Kia\n"
   ]
  },
  {
   "cell_type": "code",
   "execution_count": 14,
   "metadata": {},
   "outputs": [
    {
     "data": {
      "text/plain": [
       "array(['Audi', 'Audi', 'Kia', 'Bently', 'Kia', 'BMW', 'BMW', 'BMW',\n",
       "       'Toyota', 'Toyota', 'Bently', 'Toyota', 'Kia', 'Kia', 'Kia',\n",
       "       'Audi', 'Audi', 'Kia', 'BMW', 'Bently', 'Kia', 'Toyota', 'BMW',\n",
       "       'Audi', 'BMW', 'BMW', 'Bently', 'Bently', 'Audi', 'Toyota', 'Kia',\n",
       "       'Bently', 'Toyota', 'Bently', 'Kia', 'Audi', 'Toyota', 'Bently',\n",
       "       'Bently', 'Audi', 'Audi', 'Toyota', 'Audi', 'Toyota', 'Audi',\n",
       "       'Kia', 'Toyota', 'Toyota', 'Kia', 'Audi', 'Audi', 'Kia', 'Kia',\n",
       "       'Toyota', 'Audi', 'BMW', 'Bently', 'BMW', 'Toyota', 'Toyota',\n",
       "       'Bently', 'BMW', 'Toyota', 'Kia', 'Toyota', 'Bently', 'Toyota',\n",
       "       'BMW', 'Bently', 'Bently', 'Toyota', 'Bently', 'Toyota', 'Audi',\n",
       "       'Bently', 'Toyota', 'Bently', 'BMW', 'Bently', 'BMW', 'Bently',\n",
       "       'Audi', 'BMW', 'Kia', 'Kia', 'Kia', 'Kia', 'Toyota', 'Audi',\n",
       "       'Bently', 'BMW', 'Audi', 'Toyota', 'Kia', 'Bently', 'Toyota',\n",
       "       'BMW', 'Toyota', 'BMW', 'BMW'], dtype='<U6')"
      ]
     },
     "execution_count": 14,
     "metadata": {},
     "output_type": "execute_result"
    }
   ],
   "source": [
    "# these are the selection of cars I choose\n",
    "cars = (\"Audi\", \"BMW\", \"Toyota\", \"Bently\", \"Kia\")\n",
    "# randomly selects 100 different cars from the selection\n",
    "choice = np.random.choice(cars, 100)\n",
    "choice"
   ]
  },
  {
   "cell_type": "markdown",
   "metadata": {},
   "source": [
    "## Premutations"
   ]
  },
  {
   "cell_type": "code",
   "execution_count": null,
   "metadata": {},
   "outputs": [],
   "source": []
  },
  {
   "cell_type": "markdown",
   "metadata": {},
   "source": [
    "## Use and purpose of 6 Distrutions"
   ]
  },
  {
   "cell_type": "code",
   "execution_count": null,
   "metadata": {},
   "outputs": [],
   "source": []
  },
  {
   "cell_type": "markdown",
   "metadata": {},
   "source": [
    "### Distribution 1"
   ]
  },
  {
   "cell_type": "code",
   "execution_count": null,
   "metadata": {},
   "outputs": [],
   "source": []
  },
  {
   "cell_type": "markdown",
   "metadata": {},
   "source": [
    "## Use of seeds in generating pseudorandom numbers"
   ]
  },
  {
   "cell_type": "code",
   "execution_count": null,
   "metadata": {},
   "outputs": [],
   "source": []
  },
  {
   "cell_type": "markdown",
   "metadata": {},
   "source": [
    "## References"
   ]
  },
  {
   "cell_type": "markdown",
   "metadata": {},
   "source": [
    "https://www.investopedia.com/terms/s/simple-random-sample.asp\n",
    "\n",
    "https://numpy.org/doc/1.16/reference/routines.random.html"
   ]
  },
  {
   "cell_type": "markdown",
   "metadata": {},
   "source": [
    "## End"
   ]
  }
 ],
 "metadata": {
  "kernelspec": {
   "display_name": "Python 3",
   "language": "python",
   "name": "python3"
  },
  "language_info": {
   "codemirror_mode": {
    "name": "ipython",
    "version": 3
   },
   "file_extension": ".py",
   "mimetype": "text/x-python",
   "name": "python",
   "nbconvert_exporter": "python",
   "pygments_lexer": "ipython3",
   "version": "3.8.3"
  }
 },
 "nbformat": 4,
 "nbformat_minor": 4
}
